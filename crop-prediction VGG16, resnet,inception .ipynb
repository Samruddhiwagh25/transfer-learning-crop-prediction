{
 "cells": [
  {
   "cell_type": "code",
   "execution_count": 12,
   "metadata": {
    "_cell_guid": "b1076dfc-b9ad-4769-8c92-a6c4dae69d19",
    "_uuid": "8f2839f25d086af736a60e9eeb907d3b93b6e0e5",
    "execution": {
     "iopub.execute_input": "2023-10-27T10:38:36.251157Z",
     "iopub.status.busy": "2023-10-27T10:38:36.250793Z",
     "iopub.status.idle": "2023-10-27T10:38:36.258284Z",
     "shell.execute_reply": "2023-10-27T10:38:36.257273Z",
     "shell.execute_reply.started": "2023-10-27T10:38:36.251128Z"
    }
   },
   "outputs": [
    {
     "data": {
      "text/plain": [
       "\"for dirname, _, filenames in os.walk('/kaggle/input/agriculture-crop-images/crop_images'):\\n    for filename in filenames:\\n        print(os.path.join(dirname,filename))\""
      ]
     },
     "execution_count": 12,
     "metadata": {},
     "output_type": "execute_result"
    }
   ],
   "source": [
    "\n",
    "import numpy as np # linear algebra\n",
    "import pandas as pd # data processing, CSV file I/O (e.g. pd.read_csv)\n",
    "\n",
    "import os\n",
    "\n"
   ]
  },
  {
   "cell_type": "code",
   "execution_count": 30,
   "metadata": {
    "execution": {
     "iopub.execute_input": "2023-10-27T11:15:29.234382Z",
     "iopub.status.busy": "2023-10-27T11:15:29.234025Z",
     "iopub.status.idle": "2023-10-27T11:15:29.272153Z",
     "shell.execute_reply": "2023-10-27T11:15:29.271273Z",
     "shell.execute_reply.started": "2023-10-27T11:15:29.234353Z"
    }
   },
   "outputs": [
    {
     "name": "stdout",
     "output_type": "stream",
     "text": [
      "['jute', 'maize', 'wheat', 'sugarcane', 'rice']\n"
     ]
    }
   ],
   "source": [
    "Path=\"/kaggle/input/agriculture-crop-images/crop_images\"\n",
    "Path2=\"/kaggle/input/agriculture-crop-images/kag2\"\n",
    "filename=os.listdir(Path)\n",
    "len(filename)\n",
    "print(filename)\n"
   ]
  },
  {
   "cell_type": "code",
   "execution_count": 15,
   "metadata": {
    "execution": {
     "iopub.execute_input": "2023-10-27T10:39:10.079637Z",
     "iopub.status.busy": "2023-10-27T10:39:10.079267Z",
     "iopub.status.idle": "2023-10-27T10:39:10.084036Z",
     "shell.execute_reply": "2023-10-27T10:39:10.083080Z",
     "shell.execute_reply.started": "2023-10-27T10:39:10.079606Z"
    }
   },
   "outputs": [],
   "source": [
    "from tensorflow.keras.preprocessing.image import ImageDataGenerator"
   ]
  },
  {
   "cell_type": "code",
   "execution_count": 16,
   "metadata": {
    "execution": {
     "iopub.execute_input": "2023-10-27T10:40:25.306579Z",
     "iopub.status.busy": "2023-10-27T10:40:25.306190Z",
     "iopub.status.idle": "2023-10-27T10:40:25.311420Z",
     "shell.execute_reply": "2023-10-27T10:40:25.310447Z",
     "shell.execute_reply.started": "2023-10-27T10:40:25.306548Z"
    }
   },
   "outputs": [],
   "source": [
    "data_gen=ImageDataGenerator(zoom_range=0.2,rotation_range=0.2,horizontal_flip=True,rescale=1/255)"
   ]
  },
  {
   "cell_type": "code",
   "execution_count": 17,
   "metadata": {
    "execution": {
     "iopub.execute_input": "2023-10-27T10:40:30.006914Z",
     "iopub.status.busy": "2023-10-27T10:40:30.006575Z",
     "iopub.status.idle": "2023-10-27T10:40:30.027870Z",
     "shell.execute_reply": "2023-10-27T10:40:30.027108Z",
     "shell.execute_reply.started": "2023-10-27T10:40:30.006889Z"
    }
   },
   "outputs": [
    {
     "name": "stdout",
     "output_type": "stream",
     "text": [
      "Found 201 images belonging to 5 classes.\n"
     ]
    }
   ],
   "source": [
    "train_data=data_gen.flow_from_directory(Path,target_size=(224,224),batch_size=64)"
   ]
  },
  {
   "cell_type": "code",
   "execution_count": 31,
   "metadata": {
    "execution": {
     "iopub.execute_input": "2023-10-27T11:16:29.002335Z",
     "iopub.status.busy": "2023-10-27T11:16:29.001714Z",
     "iopub.status.idle": "2023-10-27T11:16:29.107024Z",
     "shell.execute_reply": "2023-10-27T11:16:29.106184Z",
     "shell.execute_reply.started": "2023-10-27T11:16:29.002304Z"
    }
   },
   "outputs": [
    {
     "name": "stdout",
     "output_type": "stream",
     "text": [
      "Found 804 images belonging to 5 classes.\n"
     ]
    }
   ],
   "source": [
    "train_data2=data_gen.flow_from_directory(Path2,target_size=(224,224),batch_size=64)"
   ]
  },
  {
   "cell_type": "code",
   "execution_count": null,
   "metadata": {
    "execution": {
     "iopub.execute_input": "2023-10-27T10:52:49.620560Z",
     "iopub.status.busy": "2023-10-27T10:52:49.620189Z",
     "iopub.status.idle": "2023-10-27T10:52:49.625704Z",
     "shell.execute_reply": "2023-10-27T10:52:49.624763Z",
     "shell.execute_reply.started": "2023-10-27T10:52:49.620530Z"
    }
   },
   "outputs": [],
   "source": [
    "from tensorflow.keras.models import Model\n",
    "from tensorflow.keras.layers import Conv2D,MaxPool2D,Flatten,Dense\n",
    "from tensorflow.keras.applications import VGG16\n",
    "from tensorflow.keras.applications.resnet import ResNet50\n",
    "from tensorflow.keras.applications import InceptionV3\n"
   ]
  },
  {
   "cell_type": "markdown",
   "metadata": {},
   "source": [
    "# VGG16"
   ]
  },
  {
   "cell_type": "code",
   "execution_count": 7,
   "metadata": {
    "execution": {
     "iopub.execute_input": "2023-10-27T09:50:37.021568Z",
     "iopub.status.busy": "2023-10-27T09:50:37.021116Z",
     "iopub.status.idle": "2023-10-27T09:50:42.768548Z",
     "shell.execute_reply": "2023-10-27T09:50:42.767690Z",
     "shell.execute_reply.started": "2023-10-27T09:50:37.021536Z"
    }
   },
   "outputs": [
    {
     "name": "stdout",
     "output_type": "stream",
     "text": [
      "Downloading data from https://storage.googleapis.com/tensorflow/keras-applications/vgg16/vgg16_weights_tf_dim_ordering_tf_kernels_notop.h5\n",
      "58889256/58889256 [==============================] - 0s 0us/step\n"
     ]
    }
   ],
   "source": [
    "#VGG16\n",
    "vgg16=VGG16(include_top=False,input_shape=(224,224,3))\n",
    "for layer in vgg16.layers:\n",
    "    layer.trainable=False\n",
    "final_layer=Dense(5,activation='softmax')(Flatten()(vgg16.output))  \n"
   ]
  },
  {
   "cell_type": "code",
   "execution_count": 8,
   "metadata": {
    "execution": {
     "iopub.execute_input": "2023-10-27T09:50:42.769973Z",
     "iopub.status.busy": "2023-10-27T09:50:42.769679Z",
     "iopub.status.idle": "2023-10-27T09:50:42.789754Z",
     "shell.execute_reply": "2023-10-27T09:50:42.789044Z",
     "shell.execute_reply.started": "2023-10-27T09:50:42.769947Z"
    }
   },
   "outputs": [],
   "source": [
    "model=Model(inputs=vgg16.input,outputs =final_layer)\n",
    "model.compile(loss='categorical_crossentropy',metrics=['accuracy'])"
   ]
  },
  {
   "cell_type": "code",
   "execution_count": 9,
   "metadata": {
    "execution": {
     "iopub.execute_input": "2023-10-27T09:50:42.791008Z",
     "iopub.status.busy": "2023-10-27T09:50:42.790752Z",
     "iopub.status.idle": "2023-10-27T09:51:15.739447Z",
     "shell.execute_reply": "2023-10-27T09:51:15.738480Z",
     "shell.execute_reply.started": "2023-10-27T09:50:42.790986Z"
    }
   },
   "outputs": [
    {
     "name": "stdout",
     "output_type": "stream",
     "text": [
      "Epoch 1/5\n",
      "4/4 [==============================] - 19s 3s/step - loss: 7.0103 - accuracy: 0.2189\n",
      "Epoch 2/5\n",
      "4/4 [==============================] - 3s 592ms/step - loss: 3.9017 - accuracy: 0.2935\n",
      "Epoch 3/5\n",
      "4/4 [==============================] - 3s 579ms/step - loss: 1.4500 - accuracy: 0.4478\n",
      "Epoch 4/5\n",
      "4/4 [==============================] - 3s 545ms/step - loss: 1.4663 - accuracy: 0.4129\n",
      "Epoch 5/5\n",
      "4/4 [==============================] - 3s 598ms/step - loss: 1.7622 - accuracy: 0.5274\n"
     ]
    },
    {
     "data": {
      "text/plain": [
       "<keras.callbacks.History at 0x78340ec3da20>"
      ]
     },
     "execution_count": 9,
     "metadata": {},
     "output_type": "execute_result"
    }
   ],
   "source": [
    "model.fit(train_data,epochs=5)"
   ]
  },
  {
   "cell_type": "code",
   "execution_count": 32,
   "metadata": {
    "execution": {
     "iopub.execute_input": "2023-10-27T11:18:01.647557Z",
     "iopub.status.busy": "2023-10-27T11:18:01.647167Z",
     "iopub.status.idle": "2023-10-27T11:20:53.533548Z",
     "shell.execute_reply": "2023-10-27T11:20:53.532567Z",
     "shell.execute_reply.started": "2023-10-27T11:18:01.647527Z"
    }
   },
   "outputs": [
    {
     "name": "stdout",
     "output_type": "stream",
     "text": [
      "Epoch 1/15\n",
      "13/13 [==============================] - 18s 1s/step - loss: 1.2177 - accuracy: 0.6020\n",
      "Epoch 2/15\n",
      "13/13 [==============================] - 12s 900ms/step - loss: 0.8277 - accuracy: 0.7264\n",
      "Epoch 3/15\n",
      "13/13 [==============================] - 11s 809ms/step - loss: 0.8119 - accuracy: 0.7214\n",
      "Epoch 4/15\n",
      "13/13 [==============================] - 11s 870ms/step - loss: 0.7023 - accuracy: 0.7475\n",
      "Epoch 5/15\n",
      "13/13 [==============================] - 11s 847ms/step - loss: 0.6826 - accuracy: 0.7587\n",
      "Epoch 6/15\n",
      "13/13 [==============================] - 12s 881ms/step - loss: 0.3380 - accuracy: 0.8893\n",
      "Epoch 7/15\n",
      "13/13 [==============================] - 10s 822ms/step - loss: 0.3380 - accuracy: 0.8881\n",
      "Epoch 8/15\n",
      "13/13 [==============================] - 10s 730ms/step - loss: 0.2864 - accuracy: 0.8980\n",
      "Epoch 9/15\n",
      "13/13 [==============================] - 12s 900ms/step - loss: 0.4104 - accuracy: 0.8495\n",
      "Epoch 10/15\n",
      "13/13 [==============================] - 10s 747ms/step - loss: 0.1611 - accuracy: 0.9590\n",
      "Epoch 11/15\n",
      "13/13 [==============================] - 10s 789ms/step - loss: 0.4060 - accuracy: 0.8769\n",
      "Epoch 12/15\n",
      "13/13 [==============================] - 12s 927ms/step - loss: 0.1616 - accuracy: 0.9552\n",
      "Epoch 13/15\n",
      "13/13 [==============================] - 11s 798ms/step - loss: 0.0911 - accuracy: 0.9826\n",
      "Epoch 14/15\n",
      "13/13 [==============================] - 10s 731ms/step - loss: 0.2588 - accuracy: 0.9254\n",
      "Epoch 15/15\n",
      "13/13 [==============================] - 10s 771ms/step - loss: 0.0685 - accuracy: 0.9863\n"
     ]
    },
    {
     "data": {
      "text/plain": [
       "<keras.callbacks.History at 0x7833483c0b80>"
      ]
     },
     "execution_count": 32,
     "metadata": {},
     "output_type": "execute_result"
    }
   ],
   "source": [
    "model.fit(train_data2,epochs=15)"
   ]
  },
  {
   "cell_type": "code",
   "execution_count": 33,
   "metadata": {
    "execution": {
     "iopub.execute_input": "2023-10-27T11:21:13.345728Z",
     "iopub.status.busy": "2023-10-27T11:21:13.345339Z",
     "iopub.status.idle": "2023-10-27T11:21:13.459003Z",
     "shell.execute_reply": "2023-10-27T11:21:13.458190Z",
     "shell.execute_reply.started": "2023-10-27T11:21:13.345699Z"
    }
   },
   "outputs": [],
   "source": [
    "model.save('crop_prediction2_vgg16.h5')"
   ]
  },
  {
   "cell_type": "markdown",
   "metadata": {},
   "source": [
    "# Resnet"
   ]
  },
  {
   "cell_type": "code",
   "execution_count": 20,
   "metadata": {
    "execution": {
     "iopub.execute_input": "2023-10-27T10:47:49.408208Z",
     "iopub.status.busy": "2023-10-27T10:47:49.407325Z",
     "iopub.status.idle": "2023-10-27T10:47:51.643221Z",
     "shell.execute_reply": "2023-10-27T10:47:51.642445Z",
     "shell.execute_reply.started": "2023-10-27T10:47:49.408173Z"
    }
   },
   "outputs": [
    {
     "name": "stdout",
     "output_type": "stream",
     "text": [
      "Downloading data from https://storage.googleapis.com/tensorflow/keras-applications/resnet/resnet50_weights_tf_dim_ordering_tf_kernels_notop.h5\n",
      "94765736/94765736 [==============================] - 0s 0us/step\n"
     ]
    }
   ],
   "source": [
    "#Resnet50\n",
    "res=ResNet50(include_top=False,input_shape=(224,224,3))\n",
    "for layer in res.layers:\n",
    "    layer.trainable=False\n",
    "final_layer=Dense(5,activation='softmax')(Flatten()(res.output))  "
   ]
  },
  {
   "cell_type": "code",
   "execution_count": 21,
   "metadata": {
    "execution": {
     "iopub.execute_input": "2023-10-27T10:48:50.233256Z",
     "iopub.status.busy": "2023-10-27T10:48:50.232916Z",
     "iopub.status.idle": "2023-10-27T10:48:50.263428Z",
     "shell.execute_reply": "2023-10-27T10:48:50.262531Z",
     "shell.execute_reply.started": "2023-10-27T10:48:50.233230Z"
    }
   },
   "outputs": [],
   "source": [
    "modelres=Model(inputs=res.input,outputs =final_layer)\n",
    "modelres.compile(loss='categorical_crossentropy',metrics=['accuracy'])"
   ]
  },
  {
   "cell_type": "code",
   "execution_count": 22,
   "metadata": {
    "execution": {
     "iopub.execute_input": "2023-10-27T10:49:23.069722Z",
     "iopub.status.busy": "2023-10-27T10:49:23.069321Z",
     "iopub.status.idle": "2023-10-27T10:49:42.164225Z",
     "shell.execute_reply": "2023-10-27T10:49:42.163268Z",
     "shell.execute_reply.started": "2023-10-27T10:49:23.069689Z"
    }
   },
   "outputs": [
    {
     "name": "stdout",
     "output_type": "stream",
     "text": [
      "Epoch 1/5\n",
      "4/4 [==============================] - 8s 594ms/step - loss: 16.8493 - accuracy: 0.2090\n",
      "Epoch 2/5\n",
      "4/4 [==============================] - 2s 510ms/step - loss: 18.1946 - accuracy: 0.2488\n",
      "Epoch 3/5\n",
      "4/4 [==============================] - 3s 557ms/step - loss: 12.0729 - accuracy: 0.1741\n",
      "Epoch 4/5\n",
      "4/4 [==============================] - 3s 554ms/step - loss: 12.6379 - accuracy: 0.2338\n",
      "Epoch 5/5\n",
      "4/4 [==============================] - 3s 574ms/step - loss: 12.9613 - accuracy: 0.1891\n"
     ]
    },
    {
     "data": {
      "text/plain": [
       "<keras.callbacks.History at 0x783360674af0>"
      ]
     },
     "execution_count": 22,
     "metadata": {},
     "output_type": "execute_result"
    }
   ],
   "source": [
    "modelres.fit(train_data,epochs=5)"
   ]
  },
  {
   "cell_type": "code",
   "execution_count": 34,
   "metadata": {
    "execution": {
     "iopub.execute_input": "2023-10-27T11:21:46.504975Z",
     "iopub.status.busy": "2023-10-27T11:21:46.504247Z",
     "iopub.status.idle": "2023-10-27T11:24:23.162754Z",
     "shell.execute_reply": "2023-10-27T11:24:23.161846Z",
     "shell.execute_reply.started": "2023-10-27T11:21:46.504943Z"
    }
   },
   "outputs": [
    {
     "name": "stdout",
     "output_type": "stream",
     "text": [
      "Epoch 1/15\n",
      "13/13 [==============================] - 11s 808ms/step - loss: 9.1216 - accuracy: 0.2239\n",
      "Epoch 2/15\n",
      "13/13 [==============================] - 10s 750ms/step - loss: 6.8223 - accuracy: 0.2463\n",
      "Epoch 3/15\n",
      "13/13 [==============================] - 10s 746ms/step - loss: 7.1389 - accuracy: 0.2687\n",
      "Epoch 4/15\n",
      "13/13 [==============================] - 10s 746ms/step - loss: 9.7403 - accuracy: 0.2301\n",
      "Epoch 5/15\n",
      "13/13 [==============================] - 10s 741ms/step - loss: 8.4416 - accuracy: 0.2612\n",
      "Epoch 6/15\n",
      "13/13 [==============================] - 10s 775ms/step - loss: 8.6048 - accuracy: 0.2226\n",
      "Epoch 7/15\n",
      "13/13 [==============================] - 10s 744ms/step - loss: 8.3965 - accuracy: 0.2438\n",
      "Epoch 8/15\n",
      "13/13 [==============================] - 10s 752ms/step - loss: 7.7386 - accuracy: 0.2786\n",
      "Epoch 9/15\n",
      "13/13 [==============================] - 10s 743ms/step - loss: 6.6804 - accuracy: 0.3072\n",
      "Epoch 10/15\n",
      "13/13 [==============================] - 11s 830ms/step - loss: 8.0740 - accuracy: 0.2624\n",
      "Epoch 11/15\n",
      "13/13 [==============================] - 10s 781ms/step - loss: 7.4265 - accuracy: 0.2811\n",
      "Epoch 12/15\n",
      "13/13 [==============================] - 11s 873ms/step - loss: 7.1571 - accuracy: 0.3072\n",
      "Epoch 13/15\n",
      "13/13 [==============================] - 13s 955ms/step - loss: 7.3217 - accuracy: 0.3047\n",
      "Epoch 14/15\n",
      "13/13 [==============================] - 10s 750ms/step - loss: 7.7572 - accuracy: 0.2823\n",
      "Epoch 15/15\n",
      "13/13 [==============================] - 10s 773ms/step - loss: 7.2168 - accuracy: 0.2910\n"
     ]
    },
    {
     "data": {
      "text/plain": [
       "<keras.callbacks.History at 0x78331e11b160>"
      ]
     },
     "execution_count": 34,
     "metadata": {},
     "output_type": "execute_result"
    }
   ],
   "source": [
    "modelres.fit(train_data2,epochs=15)"
   ]
  },
  {
   "cell_type": "code",
   "execution_count": 35,
   "metadata": {
    "execution": {
     "iopub.execute_input": "2023-10-27T11:24:44.761626Z",
     "iopub.status.busy": "2023-10-27T11:24:44.760699Z",
     "iopub.status.idle": "2023-10-27T11:24:45.208294Z",
     "shell.execute_reply": "2023-10-27T11:24:45.207303Z",
     "shell.execute_reply.started": "2023-10-27T11:24:44.761590Z"
    }
   },
   "outputs": [],
   "source": [
    "modelres.save('crop_prediction2_resnet.h5')"
   ]
  },
  {
   "cell_type": "markdown",
   "metadata": {},
   "source": [
    "# Inception"
   ]
  },
  {
   "cell_type": "code",
   "execution_count": 25,
   "metadata": {
    "execution": {
     "iopub.execute_input": "2023-10-27T10:54:35.934237Z",
     "iopub.status.busy": "2023-10-27T10:54:35.933861Z",
     "iopub.status.idle": "2023-10-27T10:54:38.816517Z",
     "shell.execute_reply": "2023-10-27T10:54:38.815551Z",
     "shell.execute_reply.started": "2023-10-27T10:54:35.934206Z"
    }
   },
   "outputs": [
    {
     "name": "stdout",
     "output_type": "stream",
     "text": [
      "Downloading data from https://storage.googleapis.com/tensorflow/keras-applications/inception_v3/inception_v3_weights_tf_dim_ordering_tf_kernels_notop.h5\n",
      "87910968/87910968 [==============================] - 0s 0us/step\n"
     ]
    }
   ],
   "source": [
    "#InceptionV3\n",
    "incep=InceptionV3(include_top=False,input_shape=(224,224,3))\n",
    "for layer in incep.layers:\n",
    "    layer.trainable=False\n",
    "final_layer=Dense(5,activation='softmax')(Flatten()(incep.output))  "
   ]
  },
  {
   "cell_type": "code",
   "execution_count": 26,
   "metadata": {
    "execution": {
     "iopub.execute_input": "2023-10-27T10:55:30.487736Z",
     "iopub.status.busy": "2023-10-27T10:55:30.487015Z",
     "iopub.status.idle": "2023-10-27T10:55:30.527231Z",
     "shell.execute_reply": "2023-10-27T10:55:30.526537Z",
     "shell.execute_reply.started": "2023-10-27T10:55:30.487701Z"
    }
   },
   "outputs": [],
   "source": [
    "modelincep=Model(inputs=incep.input,outputs =final_layer)\n",
    "modelincep.compile(loss='categorical_crossentropy',metrics=['accuracy'])"
   ]
  },
  {
   "cell_type": "code",
   "execution_count": 27,
   "metadata": {
    "execution": {
     "iopub.execute_input": "2023-10-27T10:55:46.340659Z",
     "iopub.status.busy": "2023-10-27T10:55:46.339790Z",
     "iopub.status.idle": "2023-10-27T10:56:06.377680Z",
     "shell.execute_reply": "2023-10-27T10:56:06.376722Z",
     "shell.execute_reply.started": "2023-10-27T10:55:46.340627Z"
    }
   },
   "outputs": [
    {
     "name": "stdout",
     "output_type": "stream",
     "text": [
      "Epoch 1/5\n",
      "4/4 [==============================] - 9s 486ms/step - loss: 29.9245 - accuracy: 0.2139\n",
      "Epoch 2/5\n",
      "4/4 [==============================] - 3s 594ms/step - loss: 18.9531 - accuracy: 0.2935\n",
      "Epoch 3/5\n",
      "4/4 [==============================] - 2s 532ms/step - loss: 9.9014 - accuracy: 0.3483\n",
      "Epoch 4/5\n",
      "4/4 [==============================] - 2s 538ms/step - loss: 7.4963 - accuracy: 0.4179\n",
      "Epoch 5/5\n",
      "4/4 [==============================] - 3s 559ms/step - loss: 5.3866 - accuracy: 0.4726\n"
     ]
    },
    {
     "data": {
      "text/plain": [
       "<keras.callbacks.History at 0x783348155000>"
      ]
     },
     "execution_count": 27,
     "metadata": {},
     "output_type": "execute_result"
    }
   ],
   "source": [
    "modelincep.fit(train_data,epochs=5)"
   ]
  },
  {
   "cell_type": "code",
   "execution_count": 36,
   "metadata": {
    "execution": {
     "iopub.execute_input": "2023-10-27T11:25:16.313796Z",
     "iopub.status.busy": "2023-10-27T11:25:16.312914Z",
     "iopub.status.idle": "2023-10-27T11:27:44.826638Z",
     "shell.execute_reply": "2023-10-27T11:27:44.825732Z",
     "shell.execute_reply.started": "2023-10-27T11:25:16.313759Z"
    }
   },
   "outputs": [
    {
     "name": "stdout",
     "output_type": "stream",
     "text": [
      "Epoch 1/15\n",
      "13/13 [==============================] - 11s 854ms/step - loss: 4.5329 - accuracy: 0.6045\n",
      "Epoch 2/15\n",
      "13/13 [==============================] - 10s 752ms/step - loss: 4.1509 - accuracy: 0.6530\n",
      "Epoch 3/15\n",
      "13/13 [==============================] - 10s 741ms/step - loss: 1.2582 - accuracy: 0.8197\n",
      "Epoch 4/15\n",
      "13/13 [==============================] - 10s 745ms/step - loss: 3.0147 - accuracy: 0.7624\n",
      "Epoch 5/15\n",
      "13/13 [==============================] - 10s 747ms/step - loss: 2.4095 - accuracy: 0.8495\n",
      "Epoch 6/15\n",
      "13/13 [==============================] - 10s 732ms/step - loss: 1.6672 - accuracy: 0.8905\n",
      "Epoch 7/15\n",
      "13/13 [==============================] - 10s 740ms/step - loss: 1.0726 - accuracy: 0.8744\n",
      "Epoch 8/15\n",
      "13/13 [==============================] - 10s 739ms/step - loss: 1.9929 - accuracy: 0.8794\n",
      "Epoch 9/15\n",
      "13/13 [==============================] - 10s 726ms/step - loss: 1.3052 - accuracy: 0.8607\n",
      "Epoch 10/15\n",
      "13/13 [==============================] - 9s 714ms/step - loss: 1.8992 - accuracy: 0.8495\n",
      "Epoch 11/15\n",
      "13/13 [==============================] - 10s 739ms/step - loss: 0.2598 - accuracy: 0.9552\n",
      "Epoch 12/15\n",
      "13/13 [==============================] - 10s 740ms/step - loss: 2.4843 - accuracy: 0.8420\n",
      "Epoch 13/15\n",
      "13/13 [==============================] - 9s 709ms/step - loss: 0.0492 - accuracy: 0.9888\n",
      "Epoch 14/15\n",
      "13/13 [==============================] - 10s 741ms/step - loss: 1.6895 - accuracy: 0.8806\n",
      "Epoch 15/15\n",
      "13/13 [==============================] - 10s 758ms/step - loss: 0.0293 - accuracy: 0.9900\n"
     ]
    },
    {
     "data": {
      "text/plain": [
       "<keras.callbacks.History at 0x78340fc222c0>"
      ]
     },
     "execution_count": 36,
     "metadata": {},
     "output_type": "execute_result"
    }
   ],
   "source": [
    "modelincep.fit(train_data2,epochs=15)"
   ]
  },
  {
   "cell_type": "code",
   "execution_count": 37,
   "metadata": {
    "execution": {
     "iopub.execute_input": "2023-10-27T11:27:56.915871Z",
     "iopub.status.busy": "2023-10-27T11:27:56.915210Z",
     "iopub.status.idle": "2023-10-27T11:27:57.447500Z",
     "shell.execute_reply": "2023-10-27T11:27:57.446651Z",
     "shell.execute_reply.started": "2023-10-27T11:27:56.915836Z"
    }
   },
   "outputs": [],
   "source": [
    "modelincep.save('crop_prediction2_inception.h5')"
   ]
  },
  {
   "cell_type": "code",
   "execution_count": 11,
   "metadata": {
    "execution": {
     "iopub.execute_input": "2023-10-27T10:04:30.990846Z",
     "iopub.status.busy": "2023-10-27T10:04:30.990108Z",
     "iopub.status.idle": "2023-10-27T10:04:30.996575Z",
     "shell.execute_reply": "2023-10-27T10:04:30.995708Z",
     "shell.execute_reply.started": "2023-10-27T10:04:30.990816Z"
    }
   },
   "outputs": [
    {
     "data": {
      "text/plain": [
       "{'jute': 0, 'maize': 1, 'rice': 2, 'sugarcane': 3, 'wheat': 4}"
      ]
     },
     "execution_count": 11,
     "metadata": {},
     "output_type": "execute_result"
    }
   ],
   "source": [
    "train_data.class_indices"
   ]
  },
  {
   "cell_type": "code",
   "execution_count": null,
   "metadata": {},
   "outputs": [],
   "source": []
  }
 ],
 "metadata": {
  "kernelspec": {
   "display_name": "Python 3 (ipykernel)",
   "language": "python",
   "name": "python3"
  },
  "language_info": {
   "codemirror_mode": {
    "name": "ipython",
    "version": 3
   },
   "file_extension": ".py",
   "mimetype": "text/x-python",
   "name": "python",
   "nbconvert_exporter": "python",
   "pygments_lexer": "ipython3",
   "version": "3.10.9"
  }
 },
 "nbformat": 4,
 "nbformat_minor": 4
}
