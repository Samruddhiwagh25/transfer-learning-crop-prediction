{
 "cells": [
  {
   "cell_type": "code",
   "execution_count": 11,
   "id": "daa2a980",
   "metadata": {},
   "outputs": [],
   "source": [
    "from tensorflow.keras.models import load_model"
   ]
  },
  {
   "cell_type": "markdown",
   "id": "2aed29a4",
   "metadata": {},
   "source": [
    "# VGG16"
   ]
  },
  {
   "cell_type": "code",
   "execution_count": 7,
   "id": "01a1ddf3",
   "metadata": {},
   "outputs": [],
   "source": [
    "model=load_model('../../Downloads/crop_prediction2_vgg16.h5')"
   ]
  },
  {
   "cell_type": "code",
   "execution_count": 8,
   "id": "f98ba8c2",
   "metadata": {},
   "outputs": [],
   "source": [
    "import cv2\n",
    "def get_crop(path):\n",
    "    A=cv2.imread(path)\n",
    "    A=cv2.resize(A,(224,224))\n",
    "    A=A/255\n",
    "    A=A.reshape(1,224,224,3)\n",
    "    return model.predict_on_batch(A).argmax()\n",
    "#jute': 0, 'maize': 1, 'rice': 2, 'sugarcane': 3, 'wheat': 4"
   ]
  },
  {
   "cell_type": "code",
   "execution_count": 9,
   "id": "9b8550c3",
   "metadata": {},
   "outputs": [
    {
     "name": "stdout",
     "output_type": "stream",
     "text": [
      "../../datasets/crop predict/my_img/jute002.jpg\n",
      "../../datasets/crop predict/my_img/maize-Field-Corn.jpg\n",
      "../../datasets/crop predict/my_img/rice-828540_1280.jpg\n",
      "../../datasets/crop predict/my_img/sugarcane fields.jpg\n",
      "../../datasets/crop predict/my_img/wheat0002ahs.jpg\n"
     ]
    }
   ],
   "source": [
    "import os\n",
    "for img in os.listdir('../../datasets/crop predict/my_img'):\n",
    "    print('../../datasets/crop predict/my_img/'+img)"
   ]
  },
  {
   "cell_type": "code",
   "execution_count": 10,
   "id": "b12ce0bb",
   "metadata": {},
   "outputs": [
    {
     "name": "stdout",
     "output_type": "stream",
     "text": [
      "jute002.jpg \t 0\n",
      "maize-Field-Corn.jpg \t 1\n",
      "rice-828540_1280.jpg \t 1\n",
      "sugarcane fields.jpg \t 1\n",
      "wheat0002ahs.jpg \t 4\n"
     ]
    }
   ],
   "source": [
    "for img in os.listdir('../../datasets/crop predict/my_img/'):\n",
    "    y=get_crop('../../datasets/crop predict/my_img/'+img)\n",
    "    print(img,'\\t',y)"
   ]
  },
  {
   "cell_type": "markdown",
   "id": "9ed1abfa",
   "metadata": {},
   "source": [
    "# resnet"
   ]
  },
  {
   "cell_type": "code",
   "execution_count": 12,
   "id": "3266c45b",
   "metadata": {},
   "outputs": [],
   "source": [
    "modelres=load_model('../../Downloads/crop_prediction2_resnet.h5')"
   ]
  },
  {
   "cell_type": "code",
   "execution_count": 14,
   "id": "84a3f511",
   "metadata": {},
   "outputs": [],
   "source": [
    "import cv2\n",
    "def get_crop2(path):\n",
    "    A=cv2.imread(path)\n",
    "    A=cv2.resize(A,(224,224))\n",
    "    A=A/255\n",
    "    A=A.reshape(1,224,224,3)\n",
    "    return modelres.predict_on_batch(A).argmax()\n",
    "#jute': 0, 'maize': 1, 'rice': 2, 'sugarcane': 3, 'wheat': 4"
   ]
  },
  {
   "cell_type": "code",
   "execution_count": 15,
   "id": "87348d0c",
   "metadata": {},
   "outputs": [
    {
     "name": "stdout",
     "output_type": "stream",
     "text": [
      "../../datasets/crop predict/my_img/jute002.jpg\n",
      "../../datasets/crop predict/my_img/maize-Field-Corn.jpg\n",
      "../../datasets/crop predict/my_img/rice-828540_1280.jpg\n",
      "../../datasets/crop predict/my_img/sugarcane fields.jpg\n",
      "../../datasets/crop predict/my_img/wheat0002ahs.jpg\n"
     ]
    }
   ],
   "source": [
    "import os\n",
    "for img in os.listdir('../../datasets/crop predict/my_img'):\n",
    "    print('../../datasets/crop predict/my_img/'+img)"
   ]
  },
  {
   "cell_type": "code",
   "execution_count": 16,
   "id": "2b9f38f8",
   "metadata": {},
   "outputs": [
    {
     "name": "stdout",
     "output_type": "stream",
     "text": [
      "jute002.jpg \t 3\n",
      "maize-Field-Corn.jpg \t 3\n",
      "rice-828540_1280.jpg \t 3\n",
      "sugarcane fields.jpg \t 1\n",
      "wheat0002ahs.jpg \t 3\n"
     ]
    }
   ],
   "source": [
    "for img in os.listdir('../../datasets/crop predict/my_img/'):\n",
    "    y=get_crop2('../../datasets/crop predict/my_img/'+img)\n",
    "    print(img,'\\t',y)"
   ]
  },
  {
   "cell_type": "markdown",
   "id": "33a4a1aa",
   "metadata": {},
   "source": [
    "# inception"
   ]
  },
  {
   "cell_type": "code",
   "execution_count": 17,
   "id": "e03b19d0",
   "metadata": {},
   "outputs": [],
   "source": [
    "modelincep=load_model('../../Downloads/crop_prediction2_inception.h5')"
   ]
  },
  {
   "cell_type": "code",
   "execution_count": 19,
   "id": "80ba5026",
   "metadata": {},
   "outputs": [],
   "source": [
    "import cv2\n",
    "def get_crop3(path):\n",
    "    A=cv2.imread(path)\n",
    "    A=cv2.resize(A,(224,224))\n",
    "    A=A/255\n",
    "    A=A.reshape(1,224,224,3)\n",
    "    return modelincep.predict_on_batch(A).argmax()\n",
    "#jute': 0, 'maize': 1, 'rice': 2, 'sugarcane': 3, 'wheat': 4"
   ]
  },
  {
   "cell_type": "code",
   "execution_count": 20,
   "id": "d00b7e4a",
   "metadata": {},
   "outputs": [
    {
     "name": "stdout",
     "output_type": "stream",
     "text": [
      "../../datasets/crop predict/my_img/jute002.jpg\n",
      "../../datasets/crop predict/my_img/maize-Field-Corn.jpg\n",
      "../../datasets/crop predict/my_img/rice-828540_1280.jpg\n",
      "../../datasets/crop predict/my_img/sugarcane fields.jpg\n",
      "../../datasets/crop predict/my_img/wheat0002ahs.jpg\n"
     ]
    }
   ],
   "source": [
    "import os\n",
    "for img in os.listdir('../../datasets/crop predict/my_img'):\n",
    "    print('../../datasets/crop predict/my_img/'+img)"
   ]
  },
  {
   "cell_type": "code",
   "execution_count": 21,
   "id": "fd78128e",
   "metadata": {},
   "outputs": [
    {
     "name": "stdout",
     "output_type": "stream",
     "text": [
      "jute002.jpg \t 1\n",
      "maize-Field-Corn.jpg \t 1\n",
      "rice-828540_1280.jpg \t 1\n",
      "sugarcane fields.jpg \t 2\n",
      "wheat0002ahs.jpg \t 4\n"
     ]
    }
   ],
   "source": [
    "for img in os.listdir('../../datasets/crop predict/my_img/'):\n",
    "    y=get_crop3('../../datasets/crop predict/my_img/'+img)\n",
    "    print(img,'\\t',y)"
   ]
  },
  {
   "cell_type": "code",
   "execution_count": null,
   "id": "4c015c4b",
   "metadata": {},
   "outputs": [],
   "source": []
  }
 ],
 "metadata": {
  "kernelspec": {
   "display_name": "Python [conda env:dsml_25_tf]",
   "language": "python",
   "name": "conda-env-dsml_25_tf-py"
  },
  "language_info": {
   "codemirror_mode": {
    "name": "ipython",
    "version": 3
   },
   "file_extension": ".py",
   "mimetype": "text/x-python",
   "name": "python",
   "nbconvert_exporter": "python",
   "pygments_lexer": "ipython3",
   "version": "3.10.13"
  }
 },
 "nbformat": 4,
 "nbformat_minor": 5
}
